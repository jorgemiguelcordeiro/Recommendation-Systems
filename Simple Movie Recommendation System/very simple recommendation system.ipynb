{
 "cells": [
  {
   "cell_type": "code",
   "execution_count": 1,
   "id": "e32fc3dc-f50a-405d-ab6f-5f03b9c67e61",
   "metadata": {},
   "outputs": [
    {
     "name": "stderr",
     "output_type": "stream",
     "text": [
      "Epoch 1 - Training Loss: 4.4943: 100%|█████████████████████████████████████████████| 1173/1173 [00:36<00:00, 32.56it/s]\n",
      "Epoch 1 - Validation Loss: 1.2751: 100%|█████████████████████████████████████████████| 294/294 [00:09<00:00, 31.72it/s]\n"
     ]
    },
    {
     "name": "stdout",
     "output_type": "stream",
     "text": [
      "Epoch 1 - Validation RMSE: 1.1236\n",
      "Saved best model with RMSE: 1.1236\n"
     ]
    },
    {
     "name": "stderr",
     "output_type": "stream",
     "text": [
      "Epoch 2 - Training Loss: 1.0414: 100%|█████████████████████████████████████████████| 1173/1173 [00:46<00:00, 25.24it/s]\n",
      "Epoch 2 - Validation Loss: 0.9545: 100%|█████████████████████████████████████████████| 294/294 [00:08<00:00, 34.69it/s]\n"
     ]
    },
    {
     "name": "stdout",
     "output_type": "stream",
     "text": [
      "Epoch 2 - Validation RMSE: 0.9720\n",
      "Saved best model with RMSE: 0.9720\n"
     ]
    },
    {
     "name": "stderr",
     "output_type": "stream",
     "text": [
      "Epoch 3 - Training Loss: 0.8948: 100%|█████████████████████████████████████████████| 1173/1173 [00:42<00:00, 27.90it/s]\n",
      "Epoch 3 - Validation Loss: 0.8782: 100%|█████████████████████████████████████████████| 294/294 [00:08<00:00, 34.57it/s]\n"
     ]
    },
    {
     "name": "stdout",
     "output_type": "stream",
     "text": [
      "Epoch 3 - Validation RMSE: 0.9357\n",
      "Saved best model with RMSE: 0.9357\n"
     ]
    },
    {
     "name": "stderr",
     "output_type": "stream",
     "text": [
      "Epoch 4 - Training Loss: 0.8494: 100%|█████████████████████████████████████████████| 1173/1173 [01:05<00:00, 17.82it/s]\n",
      "Epoch 4 - Validation Loss: 0.8600: 100%|█████████████████████████████████████████████| 294/294 [00:08<00:00, 35.15it/s]\n"
     ]
    },
    {
     "name": "stdout",
     "output_type": "stream",
     "text": [
      "Epoch 4 - Validation RMSE: 0.9231\n",
      "Saved best model with RMSE: 0.9231\n"
     ]
    },
    {
     "name": "stderr",
     "output_type": "stream",
     "text": [
      "Epoch 5 - Training Loss: 0.8327: 100%|█████████████████████████████████████████████| 1173/1173 [01:01<00:00, 19.17it/s]\n",
      "Epoch 5 - Validation Loss: 0.8473: 100%|█████████████████████████████████████████████| 294/294 [00:20<00:00, 14.03it/s]\n"
     ]
    },
    {
     "name": "stdout",
     "output_type": "stream",
     "text": [
      "Epoch 5 - Validation RMSE: 0.9178\n",
      "Saved best model with RMSE: 0.9178\n"
     ]
    },
    {
     "name": "stderr",
     "output_type": "stream",
     "text": [
      "Epoch 6 - Training Loss: 0.8257: 100%|█████████████████████████████████████████████| 1173/1173 [00:55<00:00, 21.06it/s]\n",
      "Epoch 6 - Validation Loss: 0.8419: 100%|█████████████████████████████████████████████| 294/294 [00:07<00:00, 37.97it/s]\n"
     ]
    },
    {
     "name": "stdout",
     "output_type": "stream",
     "text": [
      "Epoch 6 - Validation RMSE: 0.9148\n",
      "Saved best model with RMSE: 0.9148\n"
     ]
    },
    {
     "name": "stderr",
     "output_type": "stream",
     "text": [
      "Epoch 7 - Training Loss: 0.8183: 100%|█████████████████████████████████████████████| 1173/1173 [00:29<00:00, 40.19it/s]\n",
      "Epoch 7 - Validation Loss: 0.8409: 100%|█████████████████████████████████████████████| 294/294 [00:06<00:00, 46.37it/s]\n"
     ]
    },
    {
     "name": "stdout",
     "output_type": "stream",
     "text": [
      "Epoch 7 - Validation RMSE: 0.9129\n",
      "Saved best model with RMSE: 0.9129\n"
     ]
    },
    {
     "name": "stderr",
     "output_type": "stream",
     "text": [
      "Epoch 8 - Training Loss: 0.8149: 100%|█████████████████████████████████████████████| 1173/1173 [00:30<00:00, 38.91it/s]\n",
      "Epoch 8 - Validation Loss: 0.8404: 100%|█████████████████████████████████████████████| 294/294 [00:06<00:00, 43.41it/s]\n"
     ]
    },
    {
     "name": "stdout",
     "output_type": "stream",
     "text": [
      "Epoch 8 - Validation RMSE: 0.9126\n",
      "Saved best model with RMSE: 0.9126\n"
     ]
    },
    {
     "name": "stderr",
     "output_type": "stream",
     "text": [
      "Epoch 9 - Training Loss: 0.8143: 100%|█████████████████████████████████████████████| 1173/1173 [00:38<00:00, 30.10it/s]\n",
      "Epoch 9 - Validation Loss: 0.8310: 100%|█████████████████████████████████████████████| 294/294 [00:05<00:00, 51.72it/s]\n"
     ]
    },
    {
     "name": "stdout",
     "output_type": "stream",
     "text": [
      "Epoch 9 - Validation RMSE: 0.9121\n",
      "Saved best model with RMSE: 0.9121\n"
     ]
    },
    {
     "name": "stderr",
     "output_type": "stream",
     "text": [
      "Epoch 10 - Training Loss: 0.8102: 100%|████████████████████████████████████████████| 1173/1173 [00:41<00:00, 28.25it/s]\n",
      "Epoch 10 - Validation Loss: 0.8295: 100%|████████████████████████████████████████████| 294/294 [00:06<00:00, 45.87it/s]\n"
     ]
    },
    {
     "name": "stdout",
     "output_type": "stream",
     "text": [
      "Epoch 10 - Validation RMSE: 0.9113\n",
      "Saved best model with RMSE: 0.9113\n"
     ]
    }
   ],
   "source": [
    "import torch\n",
    "import torch.nn as nn\n",
    "from torch.utils.data import DataLoader\n",
    "from tqdm import tqdm\n",
    "import numpy as np\n",
    "from sklearn import metrics\n",
    "\n",
    "class MovieDataset(torch.utils.data.Dataset):\n",
    "    def __init__(self, users, movies, ratings):\n",
    "        self.users = users\n",
    "        self.movies = movies\n",
    "        self.ratings = ratings\n",
    "        \n",
    "    def __len__(self):\n",
    "        return len(self.users)\n",
    "    \n",
    "    def __getitem__(self, item):\n",
    "        user = self.users[item]\n",
    "        movie = self.movies[item]\n",
    "        rating = self.ratings[item]\n",
    "        return {\n",
    "            'user': torch.tensor(user, dtype=torch.long),\n",
    "            'movie': torch.tensor(movie, dtype=torch.long),\n",
    "            'rating': torch.tensor(rating, dtype=torch.float),\n",
    "        }\n",
    "\n",
    "class RecSysModel(nn.Module):\n",
    "    def __init__(self, num_users, num_movies):\n",
    "        super().__init__()\n",
    "        self.user_embed = nn.Embedding(num_users, 32)\n",
    "        self.movie_embed = nn.Embedding(num_movies, 32)\n",
    "        self.out = nn.Linear(64, 1)\n",
    "        \n",
    "    def forward(self, users, movies):\n",
    "        user_embeds = self.user_embed(users)\n",
    "        movie_embeds = self.movie_embed(movies)\n",
    "        output = torch.cat([user_embeds, movie_embeds], dim=1)\n",
    "        output = self.out(output)\n",
    "        return output\n",
    "\n",
    "def train_model(model, train_dataset, valid_dataset, epochs=10, train_bs=512, valid_bs=512, lr=1e-3):\n",
    "    device = torch.device(\"cpu\")\n",
    "    model = model.to(device)\n",
    "    \n",
    "    train_loader = DataLoader(\n",
    "        train_dataset, \n",
    "        batch_size=train_bs, \n",
    "        shuffle=True,\n",
    "        num_workers=0\n",
    "    )\n",
    "    \n",
    "    valid_loader = DataLoader(\n",
    "        valid_dataset, \n",
    "        batch_size=valid_bs, \n",
    "        shuffle=False,\n",
    "        num_workers=0\n",
    "    )\n",
    "    \n",
    "    optimizer = torch.optim.Adam(model.parameters(), lr=lr)\n",
    "    scheduler = torch.optim.lr_scheduler.StepLR(optimizer, step_size=3, gamma=0.7)\n",
    "    criterion = nn.MSELoss()\n",
    "    \n",
    "    best_rmse = float('inf')\n",
    "    \n",
    "    for epoch in range(epochs):\n",
    "        # Training\n",
    "        model.train()\n",
    "        train_loss = 0\n",
    "        train_pbar = tqdm(train_loader, total=len(train_loader))\n",
    "        \n",
    "        for batch in train_pbar:\n",
    "            users = batch[\"user\"].to(device)\n",
    "            movies = batch[\"movie\"].to(device)\n",
    "            ratings = batch[\"rating\"].to(device)\n",
    "            \n",
    "            optimizer.zero_grad()\n",
    "            outputs = model(users, movies)\n",
    "            loss = criterion(outputs, ratings.view(-1, 1))\n",
    "            loss.backward()\n",
    "            optimizer.step()\n",
    "            \n",
    "            train_loss += loss.item()\n",
    "            train_pbar.set_description(f\"Epoch {epoch+1} - Training Loss: {train_loss/(train_pbar.n+1):.4f}\")\n",
    "            \n",
    "        scheduler.step()\n",
    "        \n",
    "        # Validation\n",
    "        model.eval()\n",
    "        valid_loss = 0\n",
    "        all_preds = []\n",
    "        all_ratings = []\n",
    "        \n",
    "        with torch.no_grad():\n",
    "            valid_pbar = tqdm(valid_loader, total=len(valid_loader))\n",
    "            for batch in valid_pbar:\n",
    "                users = batch[\"user\"].to(device)\n",
    "                movies = batch[\"movie\"].to(device)\n",
    "                ratings = batch[\"rating\"].to(device)\n",
    "                \n",
    "                outputs = model(users, movies)\n",
    "                loss = criterion(outputs, ratings.view(-1, 1))\n",
    "                \n",
    "                valid_loss += loss.item()\n",
    "                valid_pbar.set_description(f\"Epoch {epoch+1} - Validation Loss: {valid_loss/(valid_pbar.n+1):.4f}\")\n",
    "                \n",
    "                all_preds.extend(outputs.cpu().numpy().flatten())\n",
    "                all_ratings.extend(ratings.cpu().numpy().flatten())\n",
    "        \n",
    "        # Calculate RMSE\n",
    "        rmse = np.sqrt(metrics.mean_squared_error(all_ratings, all_preds))\n",
    "        print(f\"Epoch {epoch+1} - Validation RMSE: {rmse:.4f}\")\n",
    "        \n",
    "        if rmse < best_rmse:\n",
    "            best_rmse = rmse\n",
    "            torch.save(model.state_dict(), \"best_model.pth\")\n",
    "            print(f\"Saved best model with RMSE: {best_rmse:.4f}\")\n",
    "            \n",
    "    return model\n",
    "\n",
    "def run_training():\n",
    "    import pandas as pd\n",
    "    from sklearn import model_selection, preprocessing\n",
    "    \n",
    "    df = pd.read_csv('../data/train_v2.csv')\n",
    "    \n",
    "    lbl_user = preprocessing.LabelEncoder()\n",
    "    lbl_movie = preprocessing.LabelEncoder()\n",
    "    \n",
    "    df.user = lbl_user.fit_transform(df.user.values)\n",
    "    df.movie = lbl_movie.fit_transform(df.movie.values)\n",
    "    \n",
    "    df_train, df_valid = model_selection.train_test_split(\n",
    "        df, \n",
    "        test_size=0.2, \n",
    "        random_state=42, \n",
    "        stratify=df.rating.values\n",
    "    )\n",
    "    \n",
    "    train_dataset = MovieDataset(\n",
    "        users=df_train.user.values, \n",
    "        movies=df_train.movie.values, \n",
    "        ratings=df_train.rating.values\n",
    "    )\n",
    "    \n",
    "    valid_dataset = MovieDataset(\n",
    "        users=df_valid.user.values, \n",
    "        movies=df_valid.movie.values, \n",
    "        ratings=df_valid.rating.values\n",
    "    )\n",
    "    \n",
    "    model = RecSysModel(\n",
    "        num_users=len(lbl_user.classes_), \n",
    "        num_movies=len(lbl_movie.classes_)\n",
    "    )\n",
    "    \n",
    "    trained_model = train_model(\n",
    "        model, \n",
    "        train_dataset, \n",
    "        valid_dataset, \n",
    "        epochs=10, \n",
    "        train_bs=512, \n",
    "        valid_bs=512\n",
    "    )\n",
    "    \n",
    "    return trained_model, lbl_user, lbl_movie\n",
    "\n",
    "if __name__ == \"__main__\":\n",
    "    run_training()"
   ]
  },
  {
   "cell_type": "code",
   "execution_count": null,
   "id": "e7f4e54e-4cd5-4f9d-961b-2535272539b3",
   "metadata": {},
   "outputs": [],
   "source": []
  }
 ],
 "metadata": {
  "kernelspec": {
   "display_name": "Python 3 (ipykernel)",
   "language": "python",
   "name": "python3"
  },
  "language_info": {
   "codemirror_mode": {
    "name": "ipython",
    "version": 3
   },
   "file_extension": ".py",
   "mimetype": "text/x-python",
   "name": "python",
   "nbconvert_exporter": "python",
   "pygments_lexer": "ipython3",
   "version": "3.12.3"
  }
 },
 "nbformat": 4,
 "nbformat_minor": 5
}
